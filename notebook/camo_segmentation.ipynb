{
 "cells": [
  {
   "cell_type": "code",
   "execution_count": 9,
   "metadata": {},
   "outputs": [],
   "source": [
    "import os\n",
    "\n",
    "import numpy as np\n",
    "from PIL import Image\n",
    "import matplotlib.pyplot as plt\n",
    "\n",
    "import torch\n",
    "from torch.utils.data import Dataset, DataLoader\n",
    "import torchvision.transforms as T"
   ]
  },
  {
   "cell_type": "code",
   "execution_count": 8,
   "metadata": {},
   "outputs": [],
   "source": [
    "class CamoDataset(Dataset):\n",
    "    def __init__(self, img_dir, label_dir=None, transform=None):\n",
    "        self.img_dir = img_dir\n",
    "        self.label_dir = label_dir\n",
    "\n",
    "        self.transform = transform\n",
    "        \n",
    "        self.img_names = sorted(os.listdir(img_dir))\n",
    "        self.label_names = sorted(os.listdir(label_dir)) if label_dir else None\n",
    "\n",
    "    def __len__(self):\n",
    "        return len(self.img_names)\n",
    "\n",
    "    def __getitem__(self, idx):\n",
    "        img_path = os.path.join(self.img_dir, self.img_names[idx])\n",
    "        img = Image.open(img_path).convert(\"RGB\")\n",
    "        \n",
    "        if self.label_dir:\n",
    "            label_path = os.path.join(self.label_dir, self.label_names[idx])\n",
    "            label = Image.open(label_path)\n",
    "            if self.transform:\n",
    "                img, label = self.transform(img, label)\n",
    "            return img, label\n",
    "        else:\n",
    "            if self.transform:\n",
    "                img = self.transform(img)\n",
    "            return img"
   ]
  },
  {
   "cell_type": "code",
   "execution_count": null,
   "metadata": {},
   "outputs": [],
   "source": [
    "# Define transforms\n",
    "transform = T.Compose([\n",
    "    T.Resize((256, 256)),\n",
    "    T.ToTensor(),\n",
    "    T.Normalize(mean=[0.5, 0.5, 0.5], std=[0.5, 0.5, 0.5])\n",
    "])\n",
    "\n",
    "data_path = os.path.abspath(\"../data/\")\n",
    "\n",
    "labeled_dataset = CamoDataset(f\"{data_path}/datasets/camouflage_1/img\", f\"{data_path}/datasets/camouflage_1/labels\", transform)\n",
    "unlabeled_dataset = CamoDataset(f\"{data_path}/raw/camouflage_1/\", transform=transform)\n",
    "\n",
    "labeled_loader = DataLoader(labeled_dataset, batch_size=8, shuffle=True)\n",
    "unlabeled_loader = DataLoader(unlabeled_dataset, batch_size=8, shuffle=True)"
   ]
  }
 ],
 "metadata": {
  "kernelspec": {
   "display_name": "win",
   "language": "python",
   "name": "python3"
  },
  "language_info": {
   "codemirror_mode": {
    "name": "ipython",
    "version": 3
   },
   "file_extension": ".py",
   "mimetype": "text/x-python",
   "name": "python",
   "nbconvert_exporter": "python",
   "pygments_lexer": "ipython3",
   "version": "3.10.5"
  }
 },
 "nbformat": 4,
 "nbformat_minor": 2
}
